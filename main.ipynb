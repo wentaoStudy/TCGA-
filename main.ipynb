{
 "cells": [
  {
   "cell_type": "markdown",
   "metadata": {},
   "source": [
    "注意注意注意！！！，本文提供的是txt文件类型的TCGA数据进行处理"
   ]
  },
  {
   "cell_type": "markdown",
   "metadata": {},
   "source": [
    "声明：本文借鉴https://www.bilibili.com/video/BV117411Z7Cq?p=1 的操作方式，为该视频中操作方式的python复现\n",
    "\n",
    "数据操作流程为：\n",
    "- 数据下载\n",
    "- 数据整理\n",
    "- 数据融合\n",
    "- 基因ID转换"
   ]
  },
  {
   "cell_type": "markdown",
   "metadata": {},
   "source": [
    "本文B站视频连接[fakelink](\"wentaoStudy.com\")\n",
    "\n",
    "本文代码Github仓库[fakelink2](\"wentaostudy.com\")"
   ]
  },
  {
   "cell_type": "markdown",
   "metadata": {},
   "source": [
    "获取数据\n",
    "\n",
    "TCGA数据下载来源：\n",
    "> https://portal.gdc.cancer.gov/repository\n",
    "\n",
    "基因名下载来源：\n",
    "> https://www.gencodegenes.org/human/\n"
   ]
  },
  {
   "cell_type": "markdown",
   "metadata": {},
   "source": [
    "基因名数据文件结构（本文使用的是v37版本，本文撰写时已经发布v38版本）\n",
    "- gencode.v37.annotation.gff3"
   ]
  },
  {
   "cell_type": "markdown",
   "metadata": {},
   "source": [
    "本文代码所需要的python工具包，可以使用pip进行安装\n",
    "pandas、jupyter、numpy、gzip"
   ]
  },
  {
   "cell_type": "markdown",
   "metadata": {},
   "source": [
    "数据整理，解压txt数据"
   ]
  },
  {
   "cell_type": "code",
   "execution_count": 6,
   "metadata": {},
   "outputs": [],
   "source": [
    "#将下好的文件统一解压到指定目录\n",
    "genefiledir = \"gdc_download_20210522_014141.705327\"\n",
    "sampledir = \"sampledir\"\n",
    "import gzip\n",
    "import os\n",
    "def un_gz(file_name , savename):\n",
    "    \n",
    "    # 获取文件的名称，去掉后缀名\n",
    "    f_name = file_name.replace(\".gz\", \"\")\n",
    "    # 开始解压\n",
    "    g_file = gzip.GzipFile(file_name)\n",
    "    #读取解压后的文件，并写入去掉后缀名的同名文件（即得到解压后的文件）\n",
    "    open(savename , \"wb+\").write(g_file.read())\n",
    "    g_file.close()\n",
    "\n",
    "list2 = os.walk(genefiledir)\n",
    "for root, dirs, files in list2: \n",
    "    for f in files: \n",
    "        if(str(f)[0] != \".\" and str(f)[-11:] == \"FPKM.txt.gz\"):\n",
    "            un_gz(os.path.join(root, f) , os.path.join(sampledir, f.replace(\".gz\", \"\")))"
   ]
  },
  {
   "cell_type": "markdown",
   "metadata": {},
   "source": [
    "数据融合"
   ]
  },
  {
   "cell_type": "code",
   "execution_count": 9,
   "metadata": {},
   "outputs": [],
   "source": [
    "json_file = 'metadata.cart.2021-05-22.json'\n",
    "import json\n",
    "import pandas as pd\n",
    "# 将数据加载到一个列表中\n",
    "pop_data = None\n",
    "f = open(json_file)\n",
    "pop_data = json.load(f)\n",
    "f.close()\n",
    "file_name_table =[]\n",
    "for i in pop_data:\n",
    "    file_name_table.append([i['file_name'][:-3],i['associated_entities'][0]['entity_submitter_id']])\n",
    "SumData = pd.DataFrame()\n",
    "for i in file_name_table:\n",
    "    df = pd.read_table(os.path.join(sampledir, i[0]) , names = [\"genes\" , i[1]] ,index_col = 0 , header = None)\n",
    "    if(SumData.empty):\n",
    "        SumData = df\n",
    "    else:\n",
    "        SumData = pd.merge(SumData, df, how='right', on='genes')\n",
    "SumData.to_csv(\"data.csv\")"
   ]
  },
  {
   "cell_type": "markdown",
   "metadata": {},
   "source": [
    "基因ID转换"
   ]
  },
  {
   "cell_type": "code",
   "execution_count": 10,
   "metadata": {},
   "outputs": [],
   "source": [
    "id_name = pd.read_table(\"gid_gname.csv\" , sep=',' , index_col=0)\n",
    "id_name.gene_id = id_name.gene_id.map(lambda x : (str(x).split(\".\"))[0])\n",
    "id_name.gene_name = id_name.gene_name.map(lambda x : (str(x).split(\".\"))[0])\n",
    "id_name.set_index('gene_id',inplace=True)\n",
    "\n",
    "sample_data = pd.read_table(\"data.csv\" , sep=',' , index_col=0)\n",
    "sample_data['gene_id'] = sample_data.index.map(lambda x : (str(x).split(\".\"))[0])\n",
    "sample_data.set_index([\"gene_id\" ],inplace=True)\n",
    "sample_data =  pd.merge(sample_data, id_name, how='left', on='gene_id')\n",
    "sample_data.set_index([\"gene_name\" ],inplace=True)\n",
    "sample_data = sample_data.dropna()\n",
    "sample_data.T.to_csv(\"samples.csv\")"
   ]
  }
 ],
 "metadata": {
  "kernelspec": {
   "display_name": "Python 3",
   "language": "python",
   "name": "python3"
  },
  "language_info": {
   "codemirror_mode": {
    "name": "ipython",
    "version": 3
   },
   "file_extension": ".py",
   "mimetype": "text/x-python",
   "name": "python",
   "nbconvert_exporter": "python",
   "pygments_lexer": "ipython3",
   "version": "3.8.5"
  }
 },
 "nbformat": 4,
 "nbformat_minor": 2
}
